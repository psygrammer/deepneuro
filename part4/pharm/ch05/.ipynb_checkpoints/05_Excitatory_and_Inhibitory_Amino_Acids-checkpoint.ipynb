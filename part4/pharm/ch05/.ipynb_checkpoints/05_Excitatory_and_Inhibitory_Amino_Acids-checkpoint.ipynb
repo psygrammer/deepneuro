{
 "cells": [
  {
   "cell_type": "markdown",
   "metadata": {},
   "source": [
    "# Chapter 5. Excitatory and Inhibitory Amino Acids"
   ]
  },
  {
   "cell_type": "markdown",
   "metadata": {},
   "source": [
    "* 싸이그래머 / 딥뉴로 : 파트 4 - 신경약리학 [1]\n",
    "* 김무성"
   ]
  },
  {
   "cell_type": "markdown",
   "metadata": {},
   "source": [
    "# Contents\n",
    "* GLUTAMATE\n",
    "* GABA\n",
    "* GLYCINE"
   ]
  },
  {
   "cell_type": "markdown",
   "metadata": {},
   "source": [
    "#### 참고\n",
    "* [2] Neuropharmacology: GABA & Glutamate -  http://www.slideshare.net/bpiper74/neuropharmacology-gaba-glutamate\n",
    "* [3] Glutamate receptor - http://www.slideshare.net/AnaghaPatil5/glutamate-receptor\n",
    "* [4] 리간드 - https://www.google.co.kr/webhp?sourceid=chrome-instant&ion=1&espv=2&ie=UTF-8#newwindow=1&safe=off&q=%EB%A6%AC%EA%B0%84%EB%93%9C"
   ]
  },
  {
   "cell_type": "markdown",
   "metadata": {},
   "source": [
    "# KEY CONCEPTS"
   ]
  },
  {
   "cell_type": "markdown",
   "metadata": {},
   "source": [
    "* The major excitatory neurotransmitter in the brain is glutamate; the major inhibitory neurotransmitter is GABA.\n",
    "* Glutamate receptors comprise two large families, \n",
    "    - ligand-gated ion channels called \n",
    "        - ionotropic receptors and \n",
    "    - G protein-coupled receptors called \n",
    "        - metabotropic receptors.\n",
    "* ionotropic glutamate receptors are \n",
    "    - divided into three classes––\n",
    "        - AMPA receptors, \n",
    "        - kainate receptors, and \n",
    "        - NMDA receptors––\n",
    "    - which are named after synthetic ligands \n",
    "        - that activate them. \n",
    "    - Individual excitatory synapses typically \n",
    "        - express several different subtypes of \n",
    "            - ionotropic glutamate receptors \n",
    "                - as well as metabotropic receptors.\n",
    "* In contrast to AMPA receptors and kainate receptors, \n",
    "    - the NMDA receptor has \n",
    "        - two important biophysical properties. Because \n",
    "            - it is highly permeable to calcium and \n",
    "            - is voltage dependent, \n",
    "        - it allows calcium entry only if the cell is depolarized.\n",
    "* AMPA receptors \n",
    "    - mediate the vast majority of excitatory synaptic transmission in the brain, \n",
    "    - whereas NMDA receptors play an important role in triggering synaptic plasticity and, when overactivated, in triggering excitotoxicity.\n",
    "* The eight different subtypes of metabotropic glutamate receptors, \n",
    "    - when localized to the presynaptic terminal, \n",
    "        - inhibit neurotransmitter release, and \n",
    "    - when localized to the postsynaptic membrane, \n",
    "        - exert complex modulatory effects through specific signal transduction cascades.\n",
    "* The most extensively studied form of synaptic plasticity is \n",
    "    - long-term potentiation (LTP) in the hippocampus, \n",
    "        - which is triggered by \n",
    "            - strong activation of NMDA receptors and \n",
    "            - the consequent large rise in postsynaptic calcium concentration.\n",
    "* Long-term depression (LTD), \n",
    "    - a long-lasting decrease in synaptic strength, \n",
    "        - also occurs at most excitatory and \n",
    "        - some inhibitory synapses in the brain.\n",
    "* The \n",
    "    - $GABA_A$ receptor, \n",
    "        - a ligand-gated chloride channel, \n",
    "    - and the $GABA_B $ receptor, \n",
    "        - a G protein-coupled receptor, \n",
    "    - are the two major classes of GABA receptors.\n",
    "* $GABA_A$ receptors, which are highly heterogeneous,\n",
    "    - mediate the bulk of inhibitory synaptic transmission in the brain. \n",
    "    - A number of drugs, most notably benzodiazepines and barbiturates, bind to $GABA_A$ receptors and enhance their function.\n",
    "* $GABA_B$ receptors are \n",
    "    - localized both presynaptically, \n",
    "        - where they inhibit neurotransmitter release, \n",
    "    - and postsynaptically, \n",
    "        - where they mediate a slow, inhibitory synaptic response.\n",
    "* Glycine, like GABA, \n",
    "    - is an inhibitory neurotransmitter that \n",
    "        - activates receptors that are ligand-gated chloride channels. \n",
    "    - It is critical in inhibitory neurotransmission \n",
    "        - in the spinal cord and brainstem."
   ]
  },
  {
   "cell_type": "markdown",
   "metadata": {},
   "source": [
    "# GLUTAMATE\n",
    "* The Major Excitatory Neurotransmitter\n",
    "* Synthetic and Degradative Pathways\n",
    "* Release and Reuptake\n",
    "* Glutamate Receptors\n",
    "* AMPA Receptors\n",
    "* Kainate Receptors\n",
    "* NMDA Receptors\n",
    "* Metabotropic Glutamate Receptors\n",
    "* Synaptic Clustering of Glutamate Receptors\n",
    "* Role of Glutamate in Neural Plasticity"
   ]
  },
  {
   "cell_type": "markdown",
   "metadata": {},
   "source": [
    "## The Major Excitatory Neurotransmitter"
   ]
  },
  {
   "cell_type": "markdown",
   "metadata": {},
   "source": [
    "Long before glutamate’s role in neurotransmission was established, investigators observed that glutamate excites most neurons in the CNS."
   ]
  },
  {
   "cell_type": "markdown",
   "metadata": {},
   "source": [
    "<img src=\"https://upload.wikimedia.org/wikipedia/commons/thumb/3/30/SynapseSchematic_en.svg/2000px-SynapseSchematic_en.svg.png\" width=600 />"
   ]
  },
  {
   "cell_type": "markdown",
   "metadata": {},
   "source": [
    "<img src=\"http://image.slidesharecdn.com/neurotransmittersanditsmechanismofaction-111226135437-phpapp02/95/neurotransmitters-and-its-mechanism-of-action-10-728.jpg?cb=1424515304\" width=600 />"
   ]
  },
  {
   "cell_type": "markdown",
   "metadata": {},
   "source": [
    "<img src=\"https://upload.wikimedia.org/wikipedia/commons/thumb/b/b2/1205_Somatic_Autonomic_Enteric_StructuresN.jpg/350px-1205_Somatic_Autonomic_Enteric_StructuresN.jpg\" width=500 />"
   ]
  },
  {
   "cell_type": "markdown",
   "metadata": {},
   "source": [
    "## Synthetic and Degradative Pathways"
   ]
  },
  {
   "cell_type": "markdown",
   "metadata": {},
   "source": [
    "Glutamate and aspartate are charged amino acids and therefore do not cross the blood–brain barrier. As a result, they must be synthesized in the brain from glucose and a variety of other precursors."
   ]
  },
  {
   "cell_type": "markdown",
   "metadata": {},
   "source": [
    "<img src=\"figures/cap5.1.png\" width=600 />"
   ]
  },
  {
   "cell_type": "markdown",
   "metadata": {},
   "source": [
    "## Release and Reuptake"
   ]
  },
  {
   "cell_type": "markdown",
   "metadata": {},
   "source": [
    "## Glutamate Receptors"
   ]
  },
  {
   "cell_type": "markdown",
   "metadata": {},
   "source": [
    "<img src=\"figures/cap5.2.png\" width=600 />"
   ]
  },
  {
   "cell_type": "markdown",
   "metadata": {},
   "source": [
    "<img src=\"figures/cap5.3.png\" width=600 />\n",
    "<img src=\"figures/cap5.4.png\" width=600 />"
   ]
  },
  {
   "cell_type": "markdown",
   "metadata": {},
   "source": [
    "<img src=\"figures/cap5.5.png\" width=600 />"
   ]
  },
  {
   "cell_type": "markdown",
   "metadata": {},
   "source": [
    "<img src=\"figures/cap5.6.png\" width=600 />\n",
    "<img src=\"figures/cap5.7.png\" width=600 />"
   ]
  },
  {
   "cell_type": "markdown",
   "metadata": {},
   "source": [
    "## AMPA Receptors"
   ]
  },
  {
   "cell_type": "markdown",
   "metadata": {},
   "source": [
    "## Kainate Receptors"
   ]
  },
  {
   "cell_type": "markdown",
   "metadata": {},
   "source": [
    "## NMDA Receptors"
   ]
  },
  {
   "cell_type": "markdown",
   "metadata": {},
   "source": [
    "<img src=\"figures/cap5.8.png\" width=600 />"
   ]
  },
  {
   "cell_type": "markdown",
   "metadata": {},
   "source": [
    "## Metabotropic Glutamate Receptors"
   ]
  },
  {
   "cell_type": "markdown",
   "metadata": {},
   "source": [
    "<img src=\"figures/cap5.9.png\" width=600 />"
   ]
  },
  {
   "cell_type": "markdown",
   "metadata": {},
   "source": [
    "<img src=\"figures/cap5.10.png\" width=600 />"
   ]
  },
  {
   "cell_type": "markdown",
   "metadata": {},
   "source": [
    "## Synaptic Clustering of Glutamate Receptors"
   ]
  },
  {
   "cell_type": "code",
   "execution_count": null,
   "metadata": {
    "collapsed": true
   },
   "outputs": [],
   "source": [
    "\n",
    "\n",
    "\n",
    "\n",
    "<img src=\"figures/cap5.11.png\" width=600 />\n",
    "<img src=\"figures/cap5.12.png\" width=600 />\n",
    "<img src=\"figures/cap5.13.png\" width=600 />\n",
    "<img src=\"figures/cap5.14.png\" width=600 />\n",
    "<img src=\"figures/cap5.15.png\" width=600 />\n",
    "<img src=\"figures/cap5.16.png\" width=600 />\n",
    "<img src=\"figures/cap5.17.png\" width=600 />\n",
    "<img src=\"figures/cap5.18.png\" width=600 />\n",
    "<img src=\"figures/cap5.19.png\" width=600 />\n",
    "<img src=\"figures/cap5.20.png\" width=600 />\n",
    "<img src=\"figures/cap5.21.png\" width=600 />"
   ]
  },
  {
   "cell_type": "markdown",
   "metadata": {},
   "source": [
    "## Role of Glutamate in Neural Plasticity"
   ]
  },
  {
   "cell_type": "markdown",
   "metadata": {},
   "source": [
    "# GABA\n",
    "* The Major Inhibitory Neurotransmitter in the Brain\n",
    "* Synthetic and Degradative Pathways\n",
    "* Release and Reuptake\n",
    "* GABA Receptors"
   ]
  },
  {
   "cell_type": "markdown",
   "metadata": {},
   "source": [
    "## The Major Inhibitory Neurotransmitter in the Brain"
   ]
  },
  {
   "cell_type": "markdown",
   "metadata": {},
   "source": [
    "## Synthetic and Degradative Pathways"
   ]
  },
  {
   "cell_type": "markdown",
   "metadata": {},
   "source": [
    "## Release and Reuptake"
   ]
  },
  {
   "cell_type": "markdown",
   "metadata": {},
   "source": [
    "## GABA Receptors"
   ]
  },
  {
   "cell_type": "markdown",
   "metadata": {},
   "source": [
    "# GLYCINE\n",
    "* Synthetic and Degradative Pathways\n",
    "* Glycine Release and Reuptake\n",
    "* Glycine Receptors"
   ]
  },
  {
   "cell_type": "markdown",
   "metadata": {},
   "source": [
    "## Synthetic and Degradative Pathways"
   ]
  },
  {
   "cell_type": "markdown",
   "metadata": {},
   "source": [
    "## Glycine Release and Reuptake"
   ]
  },
  {
   "cell_type": "markdown",
   "metadata": {},
   "source": [
    "## Glycine Receptors"
   ]
  },
  {
   "cell_type": "markdown",
   "metadata": {},
   "source": [
    "# 참고자료\n",
    "* [1] Molecular Neuropharmacology: A Foundation for Clinical Neuroscience (2nd edition) - http://www.amazon.com/Molecular-Neuropharmacology-Foundation-Clinical-Neuroscience/dp/0071481273\n",
    "* [2] Neuropharmacology: GABA & Glutamate -  http://www.slideshare.net/bpiper74/neuropharmacology-gaba-glutamate\n",
    "* [3] Glutamate receptor - http://www.slideshare.net/AnaghaPatil5/glutamate-receptor\n",
    "* [4] 리간드 - https://www.google.co.kr/webhp?sourceid=chrome-instant&ion=1&espv=2&ie=UTF-8#newwindow=1&safe=off&q=%EB%A6%AC%EA%B0%84%EB%93%9C"
   ]
  }
 ],
 "metadata": {
  "kernelspec": {
   "display_name": "Python 2",
   "language": "python",
   "name": "python2"
  },
  "language_info": {
   "codemirror_mode": {
    "name": "ipython",
    "version": 2
   },
   "file_extension": ".py",
   "mimetype": "text/x-python",
   "name": "python",
   "nbconvert_exporter": "python",
   "pygments_lexer": "ipython2",
   "version": "2.7.6"
  }
 },
 "nbformat": 4,
 "nbformat_minor": 0
}
