{
 "cells": [
  {
   "cell_type": "markdown",
   "metadata": {},
   "source": [
    "# 2. Cellular Basis of Communication"
   ]
  },
  {
   "cell_type": "markdown",
   "metadata": {},
   "source": [
    "* 싸이그래머/딥뉴로 : 파트 1 - 신경약리학 [1]\n",
    "* 김무성"
   ]
  },
  {
   "cell_type": "markdown",
   "metadata": {},
   "source": [
    "# Contents\n",
    "* Key Conceps\n",
    "* The Neuron\n",
    "* The Electrical Properties of Neurons\n",
    "* Biophysical Properties of the Cell Membrane \n",
    "* Molecular Properties of Ion Channels\n",
    "* Glia\n",
    "* Cerebral Blood Flow"
   ]
  },
  {
   "cell_type": "markdown",
   "metadata": {},
   "source": [
    "# Key Concepts"
   ]
  },
  {
   "cell_type": "markdown",
   "metadata": {},
   "source": [
    "* Neurons \n",
    "    - are the principal cells in the brain that \n",
    "        - process information. \n",
    "    - There is a great diversity of neuronal cell types based on\n",
    "        - morphology, \n",
    "        - chemistry, \n",
    "        - location, and \n",
    "        - connections.\n",
    "* The nucleus and major cytoplasmic organelles(세포질 소기관) \n",
    "    - in the cell body of neurons \n",
    "    - synthesize and process \n",
    "        - proteins, \n",
    "            - which are subsequently transported to their appropriate locations within the neuron.\n",
    "* The axon(축삭) \n",
    "    - transports molecules and \n",
    "    - conducts action potentials \n",
    "        - to presynaptic terminals \n",
    "        - to initiate communication with other neurons, \n",
    "        - which occurs at synapses.\n",
    "* Dendrites(수상돌기), \n",
    "    - multiple fine processes that \n",
    "        - extend from the neuronal cell body, \n",
    "        - together with the cell body, \n",
    "        - serve as the primary structure \n",
    "            - for the reception of synaptic contacts from other neurons.\n",
    "* The cytoskeleton(세포골격)\n",
    "    - the inner scaffold of a neuron \n",
    "    - formed by \n",
    "        - a system of interconnected protein filaments\n",
    "            - called microtubules, \n",
    "        - intermediate filaments, and \n",
    "        - actin filaments\n",
    "    - plays a key role \n",
    "        - in the structure of neurons and \n",
    "        - in the transport of various proteins and \n",
    "        - organelles from the cell body to axonal and dendritic processes.\n",
    "* Three major classes of glia(아교세포)\n",
    "    - astrocytes(성상교세포), \n",
    "    - oligo-dendrocytes, and \n",
    "    - microglia(미세아교세포)\n",
    "    - play important supporting roles in brain function.\n",
    "* The blood-brain barrier, \n",
    "    - formed by tight junctions \n",
    "        - between endothelial(내피) cells of capillaries(모세혈관) in cerebral vascular beds(뇌 혈관 beds), \n",
    "    - allows only small lipophilic(친 유성) substances to enter the brain from the general circulation.\n",
    "* In their resting state, neurons \n",
    "    - maintain a negative electrical potential \n",
    "        - in relation to the extracellular environment. \n",
    "    - This results from \n",
    "        - differences between \n",
    "            - the intracellular and extracellular concentrations of K+, Na+, and Cl− and \n",
    "            - the relative permeability(침투성) of the cell membrane to these and other ions. \n",
    "    - The energy consuming Na+/K+ pump helps to maintain appropriate ionic gradients across the membrane.\n",
    "* The generation of all-or-none action potentials \n",
    "    - relies on \n",
    "        - the activities of voltage-dependent ion channels,\n",
    "        - highly specialized proteins that \n",
    "            - allow the flow of a specific ion (K+, Na+, or Ca2+) across neuronal membranes \n",
    "                - in response to changes in neuronal membrane potential.\n",
    "* Sodium(나트륨) channels \n",
    "    - are the targets of many important drugs including \n",
    "        - local anesthetics(국소 마취제) and \n",
    "        - some antiseizure(항간질?) medications.\n",
    "* The three general classes of potassium(칼륨) channels include\n",
    "    - voltage-gated potassium channels, \n",
    "    - calcium-activated potassium channels, and \n",
    "    - inward rectifiers(정류기).\n",
    "* Entry of calcium \n",
    "    - into neurons through voltage-dependent calcium channels, \n",
    "    - of which there are five major classes —\n",
    "        - L-type, \n",
    "        - N-type, \n",
    "        - T-type, \n",
    "        - P/Q-type and \n",
    "        - R-type —\n",
    "    - is important for \n",
    "        - neurotransmitter release and \n",
    "        - activation of intracellular signaling cascades. \n",
    "    - L-type calcium channel blockers are \n",
    "        - used to treat ischemic heart disease(허혈성 심장질환) and hypertension(고혈압).\n",
    "* Mutations in ion channels \n",
    "    - are the cause of several neurologic disorders, \n",
    "        - including certain inherited neuromuscular disorders."
   ]
  },
  {
   "cell_type": "markdown",
   "metadata": {},
   "source": [
    "<img src=\"figures/cap2.1.png\" width=600 />"
   ]
  },
  {
   "cell_type": "markdown",
   "metadata": {},
   "source": [
    "This chapter focuses on the basic features of neurons and glia and on the electrical excitability of neurons. The molecular and cellular basis of synaptic transmission and signal transduction are covered in subsequent chapters."
   ]
  },
  {
   "cell_type": "markdown",
   "metadata": {},
   "source": [
    "# The Neuron\n",
    "* Overview of the Neuron\n",
    "* The Cytoskeleton and the Transport of Proteins\n",
    "* The Synapse"
   ]
  },
  {
   "cell_type": "markdown",
   "metadata": {},
   "source": [
    "<img src=\"figures/cap2.2.png\" width=600 />"
   ]
  },
  {
   "cell_type": "markdown",
   "metadata": {},
   "source": [
    "<img src=\"figures/cap2.3.png\" width=600 />"
   ]
  },
  {
   "cell_type": "markdown",
   "metadata": {},
   "source": [
    "## Overview of the Neuron"
   ]
  },
  {
   "cell_type": "markdown",
   "metadata": {},
   "source": [
    "<img src=\"figures/cap2.4.png\" width=600 />"
   ]
  },
  {
   "cell_type": "markdown",
   "metadata": {},
   "source": [
    "<img src=\"figures/cap2.5.png\" width=300 />"
   ]
  },
  {
   "cell_type": "markdown",
   "metadata": {},
   "source": [
    "## The Cytoskeleton and the Transport of Proteins"
   ]
  },
  {
   "cell_type": "markdown",
   "metadata": {},
   "source": [
    "The cytoskeleton(세포골격), \n",
    "* which represents the inner structure, or \n",
    "* scaffold, of a neuron is \n",
    "* formed by a system of interconnected molecular filaments termed\n",
    "    - microtubules,\n",
    "        <img src=\"https://upload.wikimedia.org/wikipedia/commons/0/06/Microtubule_structure.png\" width=400 />\n",
    "    - intermediate filaments, and \n",
    "        <img src=\"https://mbi-figure.storage.googleapis.com/figure/1384241639768.jpg\" width=400 />\n",
    "    - actin filaments.\n",
    "        <img src=\"http://www-rohan.sdsu.edu/course/ens304/public_html/section1/Image5.gif\" width=400 />\n",
    "* The cytoskeleton not only has important structural functions, but also controls the transport of proteins between the cell body and its axonal and dendritic processes. \n",
    "* The power to move vesicles along microtubules by <font color=\"red\">fast axonal transport</font> is derived from two force-generating proteins, \n",
    "    - kinesin and \n",
    "        <img src=\"https://upload.wikimedia.org/wikipedia/commons/3/3d/Motility_of_kinesin_en.png\" width=400 />\n",
    "    - dynein.\n",
    "        <img src=\"https://openi.nlm.nih.gov/imgs/512/315/1584265/PMC1584265_pgen.0020124.g001.png\" width=400 />\n",
    "* The molecular mechanisms responsible for <font color=\"red\">slow axonal transport</font> and for the transport of proteins to dendrites are not well understood."
   ]
  },
  {
   "cell_type": "markdown",
   "metadata": {},
   "source": [
    "## The Synapse\n",
    "* box 2-1 Identification of Neurotransmitters in the Brain\n",
    "* box 2–2 The Many Faces of Synaptic Transmission"
   ]
  },
  {
   "cell_type": "markdown",
   "metadata": {},
   "source": [
    "### box 2-1 Identification of Neurotransmitters in the Brain"
   ]
  },
  {
   "cell_type": "markdown",
   "metadata": {},
   "source": [
    "Our understanding of the molecular basis of neu- ropharmacology is significantly dependent on our ability to identify neurotransmitters in the mam- malian brain."
   ]
  },
  {
   "cell_type": "markdown",
   "metadata": {},
   "source": [
    "* Localization\n",
    "    - A putative neurotransmitter must be localized to presynaptic terminals (or in some cases to dendrites or somas) in specific neural pathways\n",
    "* Release\n",
    "    - In an intact brain, it can be determined whether stimulation of a pathway causes the release of a candidate neurotransmitter as measured in extracellular fluid by techniques such as microdialysis or, in the case of some substances, by electro- chemical detection.\n",
    "* Synaptic Mimicry\n",
    "    - The action of a suspected neurotransmitter should be mimicked by exogenous application of the substance. \n",
    "* Synaptic Pharmacology\n",
    "    - Neurotransmitters act on receptors for which there may exist pharmacologic antagonists. Thus, if the action of a synaptically released substance is blocked by a selective receptor antagonist, the identity of the neurotransmitter is strongly suggested."
   ]
  },
  {
   "cell_type": "markdown",
   "metadata": {},
   "source": [
    "### box 2–2 The Many Faces of Synaptic Transmission"
   ]
  },
  {
   "cell_type": "markdown",
   "metadata": {},
   "source": [
    "we have learned that many additional types of synaptic transmission occur in the brain."
   ]
  },
  {
   "cell_type": "markdown",
   "metadata": {},
   "source": [
    "<img src=\"figures/cap2.6.png\" width=600 />"
   ]
  },
  {
   "cell_type": "markdown",
   "metadata": {},
   "source": [
    "# The Electrical Properties of Neurons\n",
    "* Electrical Potential in Cells\n",
    "* How Neurons Maintain Electrical Potential\n",
    "* A Simple Cell Model\n",
    "* A More Complicated Cell Model\n",
    "* Maintenance of Membrane Potential by ATP-Dependent Pumps"
   ]
  },
  {
   "cell_type": "markdown",
   "metadata": {},
   "source": [
    "<img src=\"figures/cap2.7.png\" width=600 />"
   ]
  },
  {
   "cell_type": "markdown",
   "metadata": {},
   "source": [
    "<img src=\"figures/cap2.8.png\" width=600 />"
   ]
  },
  {
   "cell_type": "markdown",
   "metadata": {},
   "source": [
    "## Electrical Potential in Cells"
   ]
  },
  {
   "cell_type": "markdown",
   "metadata": {},
   "source": [
    "<img src=\"figures/cap2.9.png\" width=600 />"
   ]
  },
  {
   "cell_type": "markdown",
   "metadata": {},
   "source": [
    "## How Neurons Maintain Electrical Potential"
   ]
  },
  {
   "cell_type": "markdown",
   "metadata": {},
   "source": [
    "## A Simple Cell Model"
   ]
  },
  {
   "cell_type": "markdown",
   "metadata": {},
   "source": [
    "<img src=\"figures/cap2.10.png\" width=600 />"
   ]
  },
  {
   "cell_type": "markdown",
   "metadata": {},
   "source": [
    "## A More Complicated Cell Model"
   ]
  },
  {
   "cell_type": "markdown",
   "metadata": {},
   "source": [
    "<img src=\"figures/cap2.11.png\" width=600 />"
   ]
  },
  {
   "cell_type": "markdown",
   "metadata": {},
   "source": [
    "## Maintenance of Membrane Potential by ATP-Dependent Pumps"
   ]
  },
  {
   "cell_type": "markdown",
   "metadata": {},
   "source": [
    "<img src=\"figures/cap2.12.png\" width=600 />"
   ]
  },
  {
   "cell_type": "markdown",
   "metadata": {},
   "source": [
    "<img src=\"figures/cap2.13.png\" width=300 />"
   ]
  },
  {
   "cell_type": "markdown",
   "metadata": {},
   "source": [
    "# Biophysical Properties of the Cell Membrane\n",
    "* Sensory, Synaptic, and Action Potentials"
   ]
  },
  {
   "cell_type": "markdown",
   "metadata": {},
   "source": [
    "<img src=\"figures/cap2.14.png\" width=600 />"
   ]
  },
  {
   "cell_type": "markdown",
   "metadata": {},
   "source": [
    "## Sensory, Synaptic, and Action Potentials\n",
    "* Receiving information\n",
    "* Integrating information\n",
    "* Action potential and neurotransmitter release"
   ]
  },
  {
   "cell_type": "markdown",
   "metadata": {},
   "source": [
    "### Receiving information"
   ]
  },
  {
   "cell_type": "markdown",
   "metadata": {},
   "source": [
    "### Integrating information"
   ]
  },
  {
   "cell_type": "markdown",
   "metadata": {},
   "source": [
    "<img src=\"figures/cap2.15.png\" width=600 />"
   ]
  },
  {
   "cell_type": "markdown",
   "metadata": {},
   "source": [
    "### Action potential and neurotransmitter release"
   ]
  },
  {
   "cell_type": "markdown",
   "metadata": {},
   "source": [
    "<img src=\"figures/cap2.16.png\" width=400 />"
   ]
  },
  {
   "cell_type": "markdown",
   "metadata": {},
   "source": [
    "<img src=\"figures/cap2.17.png\" width=600 />"
   ]
  },
  {
   "cell_type": "markdown",
   "metadata": {},
   "source": [
    "# Molecular Properties of Ion Channels\n",
    "* Structure of VGL Ion Channels\n",
    "* Selectivity of Ion Channels\n",
    "* Opening of Ion Channels\n",
    "* Closing of Ion Channels\n",
    "* box 2–4 Phosphorylation of Ion Channels\n",
    "* Types of Ion Channels\n",
    "* Sodium Channels\n",
    "* Potassium Channels\n",
    "* Calcium Channels\n",
    "* Cyclic Nucleotide–Regulated Channels\n",
    "* TRP Channels\n",
    "* Chloride Channels"
   ]
  },
  {
   "cell_type": "markdown",
   "metadata": {},
   "source": [
    "## Structure of VGL Ion Channels\n",
    "* box ￼2–3 Accessory Subunits of Channels"
   ]
  },
  {
   "cell_type": "markdown",
   "metadata": {},
   "source": [
    "<img src=\"figures/cap2.18.png\" width=600 />"
   ]
  },
  {
   "cell_type": "markdown",
   "metadata": {},
   "source": [
    "<img src=\"figures/cap2.19.png\" width=600 />"
   ]
  },
  {
   "cell_type": "markdown",
   "metadata": {},
   "source": [
    "### box ￼2–3 Accessory Subunits of Channels"
   ]
  },
  {
   "cell_type": "markdown",
   "metadata": {},
   "source": [
    "## Selectivity of Ion Channels"
   ]
  },
  {
   "cell_type": "markdown",
   "metadata": {},
   "source": [
    "## Opening of Ion Channels"
   ]
  },
  {
   "cell_type": "markdown",
   "metadata": {},
   "source": [
    "## Closing of Ion Channels"
   ]
  },
  {
   "cell_type": "markdown",
   "metadata": {},
   "source": [
    "## box 2–4 Phosphorylation of Ion Channels"
   ]
  },
  {
   "cell_type": "markdown",
   "metadata": {},
   "source": [
    "<img src=\"figures/cap2.20.png\" width=600 />"
   ]
  },
  {
   "cell_type": "markdown",
   "metadata": {},
   "source": [
    "## Types of Ion Channels"
   ]
  },
  {
   "cell_type": "markdown",
   "metadata": {},
   "source": [
    "## Sodium Channels"
   ]
  },
  {
   "cell_type": "markdown",
   "metadata": {},
   "source": [
    "<img src=\"figures/cap2.21.png\" width=600 />"
   ]
  },
  {
   "cell_type": "markdown",
   "metadata": {},
   "source": [
    "<img src=\"figures/cap2.22.png\" width=600 />"
   ]
  },
  {
   "cell_type": "markdown",
   "metadata": {},
   "source": [
    "## Potassium Channels"
   ]
  },
  {
   "cell_type": "markdown",
   "metadata": {},
   "source": [
    "<img src=\"figures/cap2.23.png\" width=600 />"
   ]
  },
  {
   "cell_type": "markdown",
   "metadata": {},
   "source": [
    "<img src=\"figures/cap2.24.png\" width=600 />"
   ]
  },
  {
   "cell_type": "markdown",
   "metadata": {},
   "source": [
    "<img src=\"figures/cap2.25.png\" width=600 />"
   ]
  },
  {
   "cell_type": "markdown",
   "metadata": {},
   "source": [
    "## Calcium Channels"
   ]
  },
  {
   "cell_type": "markdown",
   "metadata": {},
   "source": [
    "<img src=\"figures/cap2.27.png\" width=600 />"
   ]
  },
  {
   "cell_type": "markdown",
   "metadata": {},
   "source": [
    "<img src=\"figures/cap2.26.png\" width=600 />"
   ]
  },
  {
   "cell_type": "markdown",
   "metadata": {},
   "source": [
    "<img src=\"figures/cap2.28.png\" width=600 />"
   ]
  },
  {
   "cell_type": "markdown",
   "metadata": {},
   "source": [
    "## Cyclic Nucleotide–Regulated Channels\n",
    "* ￼box 2–5 Signal Transduction in CNG Channels"
   ]
  },
  {
   "cell_type": "markdown",
   "metadata": {},
   "source": [
    "### box 2–5 Signal Transduction in CNG Channels"
   ]
  },
  {
   "cell_type": "markdown",
   "metadata": {},
   "source": [
    "## TRP Channels"
   ]
  },
  {
   "cell_type": "markdown",
   "metadata": {},
   "source": [
    "## Chloride Channels"
   ]
  },
  {
   "cell_type": "markdown",
   "metadata": {},
   "source": [
    "<img src=\"figures/cap2.29.png\" width=600 />"
   ]
  },
  {
   "cell_type": "markdown",
   "metadata": {},
   "source": [
    "# Glia\n",
    "* Astroctyes\n",
    "* Oligodendrocytes and Schwann Cells\n",
    "* Microglia"
   ]
  },
  {
   "cell_type": "markdown",
   "metadata": {},
   "source": [
    "## Astroctyes"
   ]
  },
  {
   "cell_type": "markdown",
   "metadata": {},
   "source": [
    "<img src=\"figures/cap2.30.png\" width=600 />"
   ]
  },
  {
   "cell_type": "markdown",
   "metadata": {},
   "source": [
    "## Oligodendrocytes and Schwann Cells"
   ]
  },
  {
   "cell_type": "markdown",
   "metadata": {},
   "source": [
    "## Microglia"
   ]
  },
  {
   "cell_type": "markdown",
   "metadata": {},
   "source": [
    "# Cerebral Blood Flow\n",
    "* Blood-Brain Barrier\n",
    "* box 2–6 Overcoming the Blood-Brain Barrier"
   ]
  },
  {
   "cell_type": "markdown",
   "metadata": {},
   "source": [
    "## Blood-Brain Barrier"
   ]
  },
  {
   "cell_type": "markdown",
   "metadata": {},
   "source": [
    "<img src=\"figures/cap2.31.png\" width=600 />"
   ]
  },
  {
   "cell_type": "markdown",
   "metadata": {},
   "source": [
    "<img src=\"figures/cap2.32.png\" width=600 />"
   ]
  },
  {
   "cell_type": "markdown",
   "metadata": {},
   "source": [
    "<img src=\"figures/cap2.33.png\" width=600 />"
   ]
  },
  {
   "cell_type": "markdown",
   "metadata": {},
   "source": [
    "## box 2–6 Overcoming the Blood-Brain Barrier"
   ]
  },
  {
   "cell_type": "markdown",
   "metadata": {},
   "source": [
    "# 참고자료\n",
    "* [1] Molecular Neuropharmacology: A Foundation for Clinical Neuroscience (2nd edition) - http://www.amazon.com/Molecular-Neuropharmacology-Foundation-Clinical-Neuroscience/dp/0071481273"
   ]
  }
 ],
 "metadata": {
  "kernelspec": {
   "display_name": "Python 2",
   "language": "python",
   "name": "python2"
  },
  "language_info": {
   "codemirror_mode": {
    "name": "ipython",
    "version": 2
   },
   "file_extension": ".py",
   "mimetype": "text/x-python",
   "name": "python",
   "nbconvert_exporter": "python",
   "pygments_lexer": "ipython2",
   "version": "2.7.10"
  }
 },
 "nbformat": 4,
 "nbformat_minor": 0
}
