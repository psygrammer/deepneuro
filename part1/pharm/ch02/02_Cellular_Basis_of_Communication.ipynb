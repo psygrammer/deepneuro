{
 "cells": [
  {
   "cell_type": "markdown",
   "metadata": {},
   "source": [
    "# 2. Cellular Basis of Communication"
   ]
  },
  {
   "cell_type": "markdown",
   "metadata": {},
   "source": [
    "* 싸이그래머/딥뉴로 : 파트 1 - 신경약리학 [1]\n",
    "* 김무성"
   ]
  },
  {
   "cell_type": "markdown",
   "metadata": {},
   "source": [
    "# Contents\n",
    "* Key Conceps\n",
    "* The Neuron\n",
    "* The Electrical Properties of Neurons\n",
    "* Biophysical Properties of the Cell Membrane \n",
    "* Molecular Properties of Ion Channels\n",
    "* Glia\n",
    "* Cerebral Blood Flow"
   ]
  },
  {
   "cell_type": "markdown",
   "metadata": {},
   "source": [
    "# Key Concepts"
   ]
  },
  {
   "cell_type": "markdown",
   "metadata": {},
   "source": [
    "* Neurons \n",
    "    - are the principal cells in the brain that \n",
    "        - process information. \n",
    "    - There is a great diversity of neuronal cell types based on\n",
    "        - morphology, \n",
    "        - chemistry, \n",
    "        - location, and \n",
    "        - connections.\n",
    "* The nucleus and major cytoplasmic organelles(세포질 소기관) \n",
    "    - in the cell body of neurons \n",
    "    - synthesize and process \n",
    "        - proteins, \n",
    "            - which are subsequently transported to their appropriate locations within the neuron.\n",
    "* The axon(축삭) \n",
    "    - transports molecules and \n",
    "    - conducts action potentials \n",
    "        - to presynaptic terminals \n",
    "        - to initiate communication with other neurons, \n",
    "        - which occurs at synapses.\n",
    "* Dendrites(수상돌기), \n",
    "    - multiple fine processes that \n",
    "        - extend from the neuronal cell body, \n",
    "        - together with the cell body, \n",
    "        - serve as the primary structure \n",
    "            - for the reception of synaptic contacts from other neurons.\n",
    "* The cytoskeleton(세포골격)\n",
    "    - the inner scaffold of a neuron \n",
    "    - formed by \n",
    "        - a system of interconnected protein filaments\n",
    "            - called microtubules, \n",
    "        - intermediate filaments, and \n",
    "        - actin filaments\n",
    "    - plays a key role \n",
    "        - in the structure of neurons and \n",
    "        - in the transport of various proteins and \n",
    "        - organelles from the cell body to axonal and dendritic processes.\n",
    "* Three major classes of glia(아교세포)\n",
    "    - astrocytes(성상교세포), \n",
    "    - oligo-dendrocytes, and \n",
    "    - microglia(미세아교세포)\n",
    "    - play important supporting roles in brain function.\n",
    "* The blood-brain barrier, \n",
    "    - formed by tight junctions \n",
    "        - between endothelial(내피) cells of capillaries(모세혈관) in cerebral vascular beds(뇌 혈관 beds), \n",
    "    - allows only small lipophilic(친 유성) substances to enter the brain from the general circulation.\n",
    "* In their resting state, neurons \n",
    "    - maintain a negative electrical potential \n",
    "        - in relation to the extracellular environment. \n",
    "    - This results from \n",
    "        - differences between \n",
    "            - the intracellular and extracellular concentrations of K+, Na+, and Cl− and \n",
    "            - the relative permeability(침투성) of the cell membrane to these and other ions. \n",
    "    - The energy consuming Na+/K+ pump helps to maintain appropriate ionic gradients across the membrane.\n",
    "* The generation of all-or-none action potentials \n",
    "    - relies on \n",
    "        - the activities of voltage-dependent ion channels,\n",
    "        - highly specialized proteins that \n",
    "            - allow the flow of a specific ion (K+, Na+, or Ca2+) across neuronal membranes \n",
    "                - in response to changes in neuronal membrane potential.\n",
    "* Sodium(나트륨) channels \n",
    "    - are the targets of many important drugs including \n",
    "        - local anesthetics(국소 마취제) and \n",
    "        - some antiseizure(항간질?) medications.\n",
    "* The three general classes of potassium(칼륨) channels include\n",
    "    - voltage-gated potassium channels, \n",
    "    - calcium-activated potassium channels, and \n",
    "    - inward rectifiers(정류기).\n",
    "* Entry of calcium \n",
    "    - into neurons through voltage-dependent calcium channels, \n",
    "    - of which there are five major classes —\n",
    "        - L-type, \n",
    "        - N-type, \n",
    "        - T-type, \n",
    "        - P/Q-type and \n",
    "        - R-type —\n",
    "    - is important for \n",
    "        - neurotransmitter release and \n",
    "        - activation of intracellular signaling cascades. \n",
    "    - L-type calcium channel blockers are \n",
    "        - used to treat ischemic heart disease(허혈성 심장질환) and hypertension(고혈압).\n",
    "* Mutations in ion channels \n",
    "    - are the cause of several neurologic disorders, \n",
    "        - including certain inherited neuromuscular disorders."
   ]
  },
  {
   "cell_type": "markdown",
   "metadata": {},
   "source": [
    "<img src=\"figures/cap2.1.png\" width=600 />"
   ]
  },
  {
   "cell_type": "markdown",
   "metadata": {},
   "source": [
    "This chapter focuses on the basic features of neurons and glia and on the electrical excitability of neurons. The molecular and cellular basis of synaptic transmission and signal transduction are covered in subsequent chapters."
   ]
  },
  {
   "cell_type": "markdown",
   "metadata": {},
   "source": [
    "# The Neuron\n",
    "* Overview of the Neuron\n",
    "* The Cytoskeleton and the Transport of Proteins\n",
    "* The Synapse"
   ]
  },
  {
   "cell_type": "markdown",
   "metadata": {},
   "source": [
    "<img src=\"figures/cap2.2.png\" width=600 />"
   ]
  },
  {
   "cell_type": "markdown",
   "metadata": {},
   "source": [
    "<img src=\"figures/cap2.3.png\" width=600 />"
   ]
  },
  {
   "cell_type": "markdown",
   "metadata": {},
   "source": [
    "## Overview of the Neuron"
   ]
  },
  {
   "cell_type": "markdown",
   "metadata": {},
   "source": [
    "<img src=\"figures/cap2.4.png\" width=600 />"
   ]
  },
  {
   "cell_type": "markdown",
   "metadata": {},
   "source": [
    "<img src=\"figures/cap2.5.png\" width=300 />"
   ]
  },
  {
   "cell_type": "markdown",
   "metadata": {},
   "source": [
    "## The Cytoskeleton and the Transport of Proteins"
   ]
  },
  {
   "cell_type": "markdown",
   "metadata": {},
   "source": [
    "The cytoskeleton(세포골격), \n",
    "* which represents the inner structure, or \n",
    "* scaffold, of a neuron is \n",
    "* formed by a system of interconnected molecular filaments termed\n",
    "    - microtubules,\n",
    "        <img src=\"https://upload.wikimedia.org/wikipedia/commons/0/06/Microtubule_structure.png\" width=400 />\n",
    "    - intermediate filaments, and \n",
    "        <img src=\"https://mbi-figure.storage.googleapis.com/figure/1384241639768.jpg\" width=400 />\n",
    "    - actin filaments.\n",
    "        <img src=\"http://www-rohan.sdsu.edu/course/ens304/public_html/section1/Image5.gif\" width=400 />\n",
    "* The cytoskeleton not only has important structural functions, but also controls the transport of proteins between the cell body and its axonal and dendritic processes. \n",
    "* The power to move vesicles along microtubules by <font color=\"red\">fast axonal transport</font> is derived from two force-generating proteins, \n",
    "    - kinesin and \n",
    "        <img src=\"https://upload.wikimedia.org/wikipedia/commons/3/3d/Motility_of_kinesin_en.png\" width=400 />\n",
    "    - dynein.\n",
    "        <img src=\"https://openi.nlm.nih.gov/imgs/512/315/1584265/PMC1584265_pgen.0020124.g001.png\" width=400 />\n",
    "* The molecular mechanisms responsible for <font color=\"red\">slow axonal transport</font> and for the transport of proteins to dendrites are not well understood."
   ]
  },
  {
   "cell_type": "markdown",
   "metadata": {},
   "source": [
    "## The Synapse\n",
    "* box 2-1 Identification of Neurotransmitters in the Brain\n",
    "* box 2–2 The Many Faces of Synaptic Transmission"
   ]
  },
  {
   "cell_type": "markdown",
   "metadata": {},
   "source": [
    "### box 2-1 Identification of Neurotransmitters in the Brain"
   ]
  },
  {
   "cell_type": "markdown",
   "metadata": {},
   "source": [
    "Our understanding of the molecular basis of neu- ropharmacology is significantly dependent on our ability to identify neurotransmitters in the mam- malian brain."
   ]
  },
  {
   "cell_type": "markdown",
   "metadata": {},
   "source": [
    "* Localization\n",
    "    - A putative neurotransmitter must be localized to presynaptic terminals (or in some cases to dendrites or somas) in specific neural pathways\n",
    "* Release\n",
    "    - In an intact brain, it can be determined whether stimulation of a pathway causes the release of a candidate neurotransmitter as measured in extracellular fluid by techniques such as microdialysis or, in the case of some substances, by electro- chemical detection.\n",
    "* Synaptic Mimicry\n",
    "    - The action of a suspected neurotransmitter should be mimicked by exogenous application of the substance. \n",
    "* Synaptic Pharmacology\n",
    "    - Neurotransmitters act on receptors for which there may exist pharmacologic antagonists. Thus, if the action of a synaptically released substance is blocked by a selective receptor antagonist, the identity of the neurotransmitter is strongly suggested."
   ]
  },
  {
   "cell_type": "markdown",
   "metadata": {},
   "source": [
    "### box 2–2 The Many Faces of Synaptic Transmission"
   ]
  },
  {
   "cell_type": "markdown",
   "metadata": {},
   "source": [
    "we have learned that many additional types of synaptic transmission occur in the brain."
   ]
  },
  {
   "cell_type": "markdown",
   "metadata": {},
   "source": [
    "<img src=\"figures/cap2.6.png\" width=600 />"
   ]
  },
  {
   "cell_type": "markdown",
   "metadata": {},
   "source": [
    "# The Electrical Properties of Neurons\n",
    "* Electrical Potential in Cells\n",
    "* How Neurons Maintain Electrical Potential\n",
    "* A Simple Cell Model\n",
    "* A More Complicated Cell Model\n",
    "* Maintenance of Membrane Potential by ATP-Dependent Pumps"
   ]
  },
  {
   "cell_type": "markdown",
   "metadata": {},
   "source": [
    "<img src=\"figures/cap2.7.png\" width=600 />"
   ]
  },
  {
   "cell_type": "markdown",
   "metadata": {},
   "source": [
    "<img src=\"figures/cap2.8.png\" width=600 />"
   ]
  },
  {
   "cell_type": "markdown",
   "metadata": {},
   "source": [
    "## Electrical Potential in Cells"
   ]
  },
  {
   "cell_type": "markdown",
   "metadata": {},
   "source": [
    "An animal’s nervous system receives information from the environment, integrates this information with past experience, and creates a behavioral response that promotes the survival of the organism. "
   ]
  },
  {
   "cell_type": "markdown",
   "metadata": {},
   "source": [
    "Neurons convey signals rapidly by alternately maintaining and varying their electrical potentials in relation to the extracellular environment.\n",
    "* membrane potential\n",
    "    - All neurons maintain a negative electrical potential (also known as a “membrane potential”) relative to their extracellular environment.\n",
    "* depolarize\n",
    "    - When a neuron is activated by an external stimulus such as a chemical signal from another neuron, or by an event in the environment, it may depolarize\n",
    "    - that is, its electrical potential may become less negative relative to the extracellular milieu. \n",
    "    - A neuron may, for example, depolarize from –70 mV to –50 mV.\n",
    "* action potential\n",
    "    - If a neuron undergoes significant depolarization, it may generate an action potential —a brief, all-or-none depolarization and repolarization of the membrane potential"
   ]
  },
  {
   "cell_type": "markdown",
   "metadata": {},
   "source": [
    "<img src=\"figures/cap2.9.png\" width=600 />"
   ]
  },
  {
   "cell_type": "markdown",
   "metadata": {},
   "source": [
    "## How Neurons Maintain Electrical Potential"
   ]
  },
  {
   "cell_type": "markdown",
   "metadata": {},
   "source": [
    "Two characteristics of nerve cells contribute to their ability to maintain an electrical potential. \n",
    "* First, different types of ions are unequally distributed across the neuronal cell membrane. \n",
    "    - Generally, the neuron’s interior contains a higher concentration of K+ and lower concentrations of \n",
    "        - Na+, \n",
    "        - Ca2+, and \n",
    "        - Cl− than does the extracellular space. \n",
    "    - These ionic gradients, which occur not only in neurons but in most cell types1, are maintained through ion-specific pumps that require energy. \n",
    "    - Moreover, the neuron’s interior contains many negatively charged, membrane-impermeable proteins that do not exist in the extracellular milieu.\n",
    "* Second, the neuronal cell membrane is differentially permeable to ions.\n",
    "    - In the resting state, most neurons are \n",
    "        - highly permeable to K+, \n",
    "        - somewhat permeable to Cl−, and \n",
    "        - very slightly permeable to Na+ and Ca2+."
   ]
  },
  {
   "cell_type": "markdown",
   "metadata": {},
   "source": [
    "## A Simple Cell Model"
   ]
  },
  {
   "cell_type": "markdown",
   "metadata": {},
   "source": [
    "Consider a very simple model of a cell. \n",
    "* The interior of the cell (I) contains 100 mM $K^{+}A^{−}$, where $A^{−}$ is an impermeant anion such as a negatively charged protein. \n",
    "* Exterior to the cell (O), the concentration of $K^{+}A^{−}$ is 5 mM (fig.2–7) . \n",
    "* To simplify this model, the effects of osmosis are ignored."
   ]
  },
  {
   "cell_type": "markdown",
   "metadata": {},
   "source": [
    "#### permeable\n",
    "* If the cell’s lipid bilayer is impermeable to both $K^{+}$ and $A^{-}$, no movement of ions occurs across the bilayer, and the concentration of ions on each side of the bilayer remains constant. \n",
    "* However, if the lipid bilayer of this cell became permeable to $K^{+}$, and only to $K^{+}$ — for example, from the opening of $K^{+}$-specific ion channels in the lipid bilayer — $K^{+}$ ions but not $A^{-}$ ions would be free to move across the lipid bilayer in both directions. \n",
    "* Because I contains 20 times more $K^{+}$ than O, many more $K^{+}$ ions would be likely to travel from I to O than from O to I. Consequently, a net efflux of $K^{+}$ from I to O would occur; because $A^{-}$ would remain impermeable, it would not cross the membrane"
   ]
  },
  {
   "cell_type": "markdown",
   "metadata": {},
   "source": [
    "<img src=\"figures/cap2.10.png\" width=600 />"
   ]
  },
  {
   "cell_type": "markdown",
   "metadata": {},
   "source": [
    "## A More Complicated Cell Model"
   ]
  },
  {
   "cell_type": "markdown",
   "metadata": {},
   "source": [
    "A basic understanding of membrane potential drawn from the previous cell model can assist in understanding a model that more closely resembles a mammalian nerve cell. It involves: \n",
    "* (1) a more complete complement of extracellular and intracellular ions, and \n",
    "* (2) more realistic ionic permeabilities."
   ]
  },
  {
   "cell_type": "markdown",
   "metadata": {},
   "source": [
    "fig.2–2 describes several features of this cell model. \n",
    "* First, the net total charge on each side of the cell is zero, a condition that is necessary for electrical neutrality.\n",
    "* Second, the cell membrane is far more permeable to K+ than to any other ion, which is the case for most neurons at rest. All other permeabilities are described relative to the permeability of K+."
   ]
  },
  {
   "cell_type": "markdown",
   "metadata": {},
   "source": [
    "<img src=\"figures/cap2.11.png\" width=600 />"
   ]
  },
  {
   "cell_type": "markdown",
   "metadata": {},
   "source": [
    "<font color=\"red\">Many electrophysiologic concepts</font> and <font color=\"blue\">the roles of ion channels</font> and <font color=\"green\">ion channel-targeting drugs in physiologic processes</font> can be understood intuitively \n",
    "* by understanding the change in membrane potential \n",
    "    - caused by changing the permeability of the membrane \n",
    "        - to different types of ions \n",
    "            - via the opening and closing of ion channels. "
   ]
  },
  {
   "cell_type": "markdown",
   "metadata": {},
   "source": [
    "When only one type of ion channel opens, it drives the membrane potential of the cell toward the equilibrium potential of that ion. \n",
    "* For example, \n",
    "    - if many of the Na+ channels in this cell model were suddenly opened, causing Na+ to be three times more permeable than K+, the membrane potential would move toward the equilibrium potential for Na+ (in this case +19.6 mV). \n",
    "    - If the Na+ channels were to close suddenly, bringing the permeability ratio of Na+ to K+ back to its original value of 0.01, the membrane potential would return to –68 mV in response to the efflux of K+ through the many open K+ channels."
   ]
  },
  {
   "cell_type": "markdown",
   "metadata": {},
   "source": [
    "It also is important to emphasize that the equilibrium potential for a particular ion \n",
    "* depends on the relative concentrations of that \n",
    "    - ion inside and outside the cell, \n",
    "        - which can vary considerably \n",
    "            - among different cell types and tissues. \n",
    "* For example, the equilibrium potential for Cl– can range from –60 to –90 mV."
   ]
  },
  {
   "cell_type": "markdown",
   "metadata": {},
   "source": [
    "## Maintenance of Membrane Potential by ATP-Dependent Pumps"
   ]
  },
  {
   "cell_type": "markdown",
   "metadata": {},
   "source": [
    "The equilibrium potential provides for an equal exchange of cations back and forth across the cell membrane: \n",
    "* for every excess Na+ ion that sneaks across the membrane, a K+ ion moves out, holding the membrane stable at the predicted potential.\n",
    "* This exchange occurs slowly enough that the ionic concentrations may be considered constant for short period of time. However, if a slow exchange of Na+ for K+ were allowed to continue for hours or days, the concentration gradients would eventually degenerate and the membrane potential would slowly begin to dissipate. "
   ]
  },
  {
   "cell_type": "markdown",
   "metadata": {},
   "source": [
    "#### Na+–K+ pump\n",
    "$Na^{+}–K^{+}$ pumps maintain the ionic gradients across a cell membrane by extruding $Na^{+}$ from and pumping K+ into the cell against their respective concentration gradients at the cost of energy"
   ]
  },
  {
   "cell_type": "markdown",
   "metadata": {},
   "source": [
    "<img src=\"figures/cap2.12.png\" width=600 />"
   ]
  },
  {
   "cell_type": "markdown",
   "metadata": {},
   "source": [
    "The importance of $Na^{+}–K^{+}$ pumps in the maintenance of cellular membrane potential becomes quite evident when they are inhibited by pharmacologic agents.\n",
    "* Cardiac glycosides such as ouabain and digoxin, which increase the contractile force of cardiac muscle and are used in the treatment of congestive heart failure and some cardiac dysrhythmias, are the best known inhibitors of the $Na^{+}–K^{+}$ pump. \n",
    "* Because cardiac glycosides inhibit $Na^{+}–K^{+}$ pumps and increase intracellular Na+ concentrations, they make $Na^{+}–Ca^{2+}$ pumps less effective. \n",
    "* Consequently, intracellular $Ca^{2+}$ concentrations increase, which increases the contractile force of cardiac muscle. \n",
    "* These drugs also can slowly reduce the resting potential of neurons eventually to zero; in large neurons, this decline in potential occurs after several hours. \n",
    "    - This action of the drugs in the CNS accounts for common side effects of cardiac glycosides, including \n",
    "        - disturbed vision, \n",
    "        - confusion, and \n",
    "        - delirium."
   ]
  },
  {
   "cell_type": "markdown",
   "metadata": {},
   "source": [
    "<img src=\"figures/cap2.13.png\" width=300 />"
   ]
  },
  {
   "cell_type": "markdown",
   "metadata": {},
   "source": [
    "# Biophysical Properties of the Cell Membrane\n",
    "* Sensory, Synaptic, and Action Potentials"
   ]
  },
  {
   "cell_type": "markdown",
   "metadata": {},
   "source": [
    "Real neurons have two biophysical properties that affect the movement of charge and the development of potential across a neuronal membrane.\n",
    "* resistor and a capacitor\n",
    "     - First, unlike the movement of charge in the cell model, charge is not transferred instantaneously from one neuronal compartment to another.\n",
    "     -  Electrically, the membrane can be thought of as a resistor and a capacitor fig.2–9 . \n",
    "     - Several properties such \n",
    "         - as size and, most significantly, \n",
    "         - thickness \n",
    "         - can affect a membrane’s capacitance. \n",
    "             - <font color=\"blue\">A very large membrane area requires more stored charge to bring it to a given potential, or in other words it has a greater capacitance, than does a small membrane area</font>. \n",
    "             - <font color=\"red\">Very thick membranes are poor capacitors</font>: \n",
    "                 - because ions separated across a greater distance possess greater potential energy, fewer ions are required to reach a certain membrane potential. \n",
    "                 - Because a myelin sheath increases a membrane’s thickness, a myelinated axonal membrane is \n",
    "                     - a high resistor and \n",
    "                     - poor capacitor compared with a nonmyelinated membrane."
   ]
  },
  {
   "cell_type": "markdown",
   "metadata": {},
   "source": [
    "<img src=\"figures/cap2.14.png\" width=600 />"
   ]
  },
  {
   "cell_type": "markdown",
   "metadata": {},
   "source": [
    "## Sensory, Synaptic, and Action Potentials\n",
    "* Receiving information\n",
    "* Integrating information\n",
    "* Action potential and neurotransmitter release"
   ]
  },
  {
   "cell_type": "markdown",
   "metadata": {},
   "source": [
    "Neurons exploit their ability to rapidly change their transmembrane potentials in order to receive informa- tion from the environment and to relay messages."
   ]
  },
  {
   "cell_type": "markdown",
   "metadata": {},
   "source": [
    "### Receiving information"
   ]
  },
  {
   "cell_type": "markdown",
   "metadata": {},
   "source": [
    "Some neurons are equipped with specialized systems that enable them to receive information from the environment. \n",
    "* Hair cells\n",
    "* Photoreceptor cells in the retina"
   ]
  },
  {
   "cell_type": "markdown",
   "metadata": {},
   "source": [
    "Neurons generally receive signals from other neu- rons through chemical neurotransmitters."
   ]
  },
  {
   "cell_type": "markdown",
   "metadata": {},
   "source": [
    "### Integrating information"
   ]
  },
  {
   "cell_type": "markdown",
   "metadata": {},
   "source": [
    "* The opening of ion channels in a localized area, such as a synapse, produces a transmembrane current that changes the membrane potential of a cell. \n",
    "* However, this change in potential does not occur instantaneously or remain localized to the narrow region of membrane in which the current was generated. \n",
    "* The integration of local changes in the transmembrane voltage of a neuron is affected by two basic types of summation: \n",
    "     - spatial summation and \n",
    "     - temporal summation"
   ]
  },
  {
   "cell_type": "markdown",
   "metadata": {},
   "source": [
    "<img src=\"figures/cap2.15.png\" width=600 />"
   ]
  },
  {
   "cell_type": "markdown",
   "metadata": {},
   "source": [
    "### Action potential and neurotransmitter release"
   ]
  },
  {
   "cell_type": "markdown",
   "metadata": {},
   "source": [
    "* An action potential is a rapidly propagating depolarization of the axonal membrane that can lead to the release of neurotransmitter from axon terminals. \n",
    "* This phenomenon is best understood in terms of the responses of Na+ channels to changes in voltage. "
   ]
  },
  {
   "cell_type": "markdown",
   "metadata": {},
   "source": [
    "<img src=\"figures/cap2.16.png\" width=400 />"
   ]
  },
  {
   "cell_type": "markdown",
   "metadata": {},
   "source": [
    "Because there are Na+ channels along the length of the axon, the action potential propagates down the axon and invades the presynaptic nerve terminals, where it triggers the influx of $Ca^{2+}$ by activating voltage-dependent $Ca^{2+}$ channels and subsequently leads to the $Ca^{2+}$-dependent release of neurotransmitter.\n",
    "* In nonmyelinated, small-diameter axons, action potential propagation is fairly slow \n",
    "    - because propagation is continuous and each segment of membrane must be depolarized to threshold. \n",
    "* In myelinated axons, action potential propagation is <font color=\"red\">saltatory</font>: \n",
    "    - action potentials appear to jump from one node of Ranvier, a small gap in the myelin sheath, to the next at a much faster rate\n",
    "    - Disruption of myelination of axons under pathological conditions, such as multiple sclerosis, impairs the conductance of action potentials, and causes neurologic symptoms such as vision loss and muscle weakness."
   ]
  },
  {
   "cell_type": "markdown",
   "metadata": {},
   "source": [
    "<img src=\"figures/cap2.17.png\" width=600 />"
   ]
  },
  {
   "cell_type": "markdown",
   "metadata": {},
   "source": [
    "# Molecular Properties of Ion Channels\n",
    "* Structure of VGL Ion Channels\n",
    "* Selectivity of Ion Channels\n",
    "* Opening of Ion Channels\n",
    "* Closing of Ion Channels\n",
    "* box 2–4 Phosphorylation of Ion Channels\n",
    "* Types of Ion Channels\n",
    "* Sodium Channels\n",
    "* Potassium Channels\n",
    "* Calcium Channels\n",
    "* Cyclic Nucleotide–Regulated Channels\n",
    "* TRP Channels\n",
    "* Chloride Channels"
   ]
  },
  {
   "cell_type": "markdown",
   "metadata": {},
   "source": [
    "## Structure of VGL Ion Channels\n",
    "* box ￼2–3 Accessory Subunits of Channels"
   ]
  },
  {
   "cell_type": "markdown",
   "metadata": {},
   "source": [
    "<img src=\"figures/cap2.18.png\" width=600 />"
   ]
  },
  {
   "cell_type": "markdown",
   "metadata": {},
   "source": [
    "<img src=\"figures/cap2.19.png\" width=600 />"
   ]
  },
  {
   "cell_type": "markdown",
   "metadata": {},
   "source": [
    "### box ￼2–3 Accessory Subunits of Channels"
   ]
  },
  {
   "cell_type": "markdown",
   "metadata": {},
   "source": [
    "## Selectivity of Ion Channels"
   ]
  },
  {
   "cell_type": "markdown",
   "metadata": {},
   "source": [
    "## Opening of Ion Channels"
   ]
  },
  {
   "cell_type": "markdown",
   "metadata": {},
   "source": [
    "## Closing of Ion Channels"
   ]
  },
  {
   "cell_type": "markdown",
   "metadata": {},
   "source": [
    "## box 2–4 Phosphorylation of Ion Channels"
   ]
  },
  {
   "cell_type": "markdown",
   "metadata": {},
   "source": [
    "<img src=\"figures/cap2.20.png\" width=600 />"
   ]
  },
  {
   "cell_type": "markdown",
   "metadata": {},
   "source": [
    "## Types of Ion Channels"
   ]
  },
  {
   "cell_type": "markdown",
   "metadata": {},
   "source": [
    "## Sodium Channels"
   ]
  },
  {
   "cell_type": "markdown",
   "metadata": {},
   "source": [
    "<img src=\"figures/cap2.21.png\" width=600 />"
   ]
  },
  {
   "cell_type": "markdown",
   "metadata": {},
   "source": [
    "<img src=\"figures/cap2.22.png\" width=600 />"
   ]
  },
  {
   "cell_type": "markdown",
   "metadata": {},
   "source": [
    "## Potassium Channels"
   ]
  },
  {
   "cell_type": "markdown",
   "metadata": {},
   "source": [
    "<img src=\"figures/cap2.23.png\" width=600 />"
   ]
  },
  {
   "cell_type": "markdown",
   "metadata": {},
   "source": [
    "<img src=\"figures/cap2.24.png\" width=600 />"
   ]
  },
  {
   "cell_type": "markdown",
   "metadata": {},
   "source": [
    "<img src=\"figures/cap2.25.png\" width=600 />"
   ]
  },
  {
   "cell_type": "markdown",
   "metadata": {},
   "source": [
    "## Calcium Channels"
   ]
  },
  {
   "cell_type": "markdown",
   "metadata": {},
   "source": [
    "<img src=\"figures/cap2.27.png\" width=600 />"
   ]
  },
  {
   "cell_type": "markdown",
   "metadata": {},
   "source": [
    "<img src=\"figures/cap2.26.png\" width=600 />"
   ]
  },
  {
   "cell_type": "markdown",
   "metadata": {},
   "source": [
    "<img src=\"figures/cap2.28.png\" width=600 />"
   ]
  },
  {
   "cell_type": "markdown",
   "metadata": {},
   "source": [
    "## Cyclic Nucleotide–Regulated Channels\n",
    "* ￼box 2–5 Signal Transduction in CNG Channels"
   ]
  },
  {
   "cell_type": "markdown",
   "metadata": {},
   "source": [
    "### box 2–5 Signal Transduction in CNG Channels"
   ]
  },
  {
   "cell_type": "markdown",
   "metadata": {},
   "source": [
    "## TRP Channels"
   ]
  },
  {
   "cell_type": "markdown",
   "metadata": {},
   "source": [
    "## Chloride Channels"
   ]
  },
  {
   "cell_type": "markdown",
   "metadata": {},
   "source": [
    "<img src=\"figures/cap2.29.png\" width=600 />"
   ]
  },
  {
   "cell_type": "markdown",
   "metadata": {},
   "source": [
    "# Glia\n",
    "* Astroctyes\n",
    "* Oligodendrocytes and Schwann Cells\n",
    "* Microglia"
   ]
  },
  {
   "cell_type": "markdown",
   "metadata": {},
   "source": [
    "## Astroctyes"
   ]
  },
  {
   "cell_type": "markdown",
   "metadata": {},
   "source": [
    "<img src=\"figures/cap2.30.png\" width=600 />"
   ]
  },
  {
   "cell_type": "markdown",
   "metadata": {},
   "source": [
    "## Oligodendrocytes and Schwann Cells"
   ]
  },
  {
   "cell_type": "markdown",
   "metadata": {},
   "source": [
    "## Microglia"
   ]
  },
  {
   "cell_type": "markdown",
   "metadata": {},
   "source": [
    "# Cerebral Blood Flow\n",
    "* Blood-Brain Barrier\n",
    "* box 2–6 Overcoming the Blood-Brain Barrier"
   ]
  },
  {
   "cell_type": "markdown",
   "metadata": {},
   "source": [
    "## Blood-Brain Barrier"
   ]
  },
  {
   "cell_type": "markdown",
   "metadata": {},
   "source": [
    "<img src=\"figures/cap2.31.png\" width=600 />"
   ]
  },
  {
   "cell_type": "markdown",
   "metadata": {},
   "source": [
    "<img src=\"figures/cap2.32.png\" width=600 />"
   ]
  },
  {
   "cell_type": "markdown",
   "metadata": {},
   "source": [
    "<img src=\"figures/cap2.33.png\" width=600 />"
   ]
  },
  {
   "cell_type": "markdown",
   "metadata": {},
   "source": [
    "## box 2–6 Overcoming the Blood-Brain Barrier"
   ]
  },
  {
   "cell_type": "markdown",
   "metadata": {},
   "source": [
    "# 참고자료\n",
    "* [1] Molecular Neuropharmacology: A Foundation for Clinical Neuroscience (2nd edition) - http://www.amazon.com/Molecular-Neuropharmacology-Foundation-Clinical-Neuroscience/dp/0071481273"
   ]
  }
 ],
 "metadata": {
  "kernelspec": {
   "display_name": "Python 2",
   "language": "python",
   "name": "python2"
  },
  "language_info": {
   "codemirror_mode": {
    "name": "ipython",
    "version": 2
   },
   "file_extension": ".py",
   "mimetype": "text/x-python",
   "name": "python",
   "nbconvert_exporter": "python",
   "pygments_lexer": "ipython2",
   "version": "2.7.10"
  }
 },
 "nbformat": 4,
 "nbformat_minor": 0
}
