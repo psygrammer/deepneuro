{
 "cells": [
  {
   "cell_type": "markdown",
   "metadata": {},
   "source": [
    "# I편 DSM-5 기본 요소"
   ]
  },
  {
   "cell_type": "markdown",
   "metadata": {},
   "source": [
    "* 싸이그래머/딥뉴로 : 파트 1 - DSM5-5 [1]\n",
    "* 김무성"
   ]
  },
  {
   "cell_type": "markdown",
   "metadata": {},
   "source": [
    "# 차례 \n",
    "* 서문\n",
    "* 편람의 활용\n",
    "* DSM-5의 법의학적 적용을 위한 주의의 말"
   ]
  },
  {
   "cell_type": "markdown",
   "metadata": {},
   "source": [
    "#### 참고\n",
    "* [2] 사례중심의 이상심리학_김청송 - http://www.slideshare.net/Jini_Jung/ss-46364894\n",
    "* [3] Dsm 5 - An overview - http://www.slideshare.net/cijoalex/dsm-5-41986351\n",
    "* [4] Introduction to the New DSM-5 Manual - http://www.slideshare.net/lkarper/introduction-to-dsm5\n",
    "* [5] What’s in DSM-5 DSM 5 diagnoses and numbers xiii-xl summary of changes from IV -preface How the DSM 5 was developed-Intro 5-19 Further description of - http://slideplayer.com/slide/4383308/"
   ]
  },
  {
   "cell_type": "markdown",
   "metadata": {},
   "source": [
    "# 서문"
   ]
  },
  {
   "cell_type": "markdown",
   "metadata": {},
   "source": [
    "* 약력\n",
    "* DSM-5 개정 과정 (DSM-5 Revision Process)\n",
    "    - 개정을 위한 제안 (Proposals for Revisions)\n",
    "    - DSM-5 임상 현장 적용 (DSM-5 Field Trials)\n",
    "    - 대중적이고 전문적인 검토 (Public and Professinal Review)\n",
    "    - 전문가 검토 (Expert Review)\n",
    "* 조직적 구조 (Organizational Structure)\n",
    "    - ICD-11과의 조화 (Harmonazation With ICD-11)\n",
    "    - 진단에의 차원적 접근 (Dimensional Approach to Diagnosis)\n",
    "    - 발달 및 생애 주기에 대한 고려 (Developmental and Lifespan Considerations)\n",
    "* 문화적 쟁점 (Cultural Issues)\n",
    "* 성별 차이 (Gender Differences)\n",
    "* 달리 명시된 및 명시되지 않은 장애의 사용 (Use of Other Specified and Unspecified Disorders)\n",
    "* 다축 체계 (The Multiaxial System)\n",
    "* 온라인 강화 (Online Enhancements)"
   ]
  },
  {
   "cell_type": "markdown",
   "metadata": {},
   "source": [
    "<img src=\"https://s-media-cache-ak0.pinimg.com/originals/8b/01/90/8b0190a284de8aa91646f1424a4ad619.jpg\" />"
   ]
  },
  {
   "cell_type": "markdown",
   "metadata": {},
   "source": [
    "<img src=\"https://studentnurselaura.files.wordpress.com/2010/07/dsm.jpg\" width=600 />"
   ]
  },
  {
   "cell_type": "markdown",
   "metadata": {},
   "source": [
    "<img src=\"http://image.slidesharecdn.com/gdgamblingdisorderwebinar32014ktedits-140824102343-phpapp01/95/dsm5-criteria-for-gambling-disorder-13-638.jpg?cb=1408875899\" width=600 />"
   ]
  },
  {
   "cell_type": "markdown",
   "metadata": {},
   "source": [
    "<img src=\"http://image.slidesharecdn.com/dimensionalapproach-120826063753-phpapp01/95/dimensional-approach-3-728.jpg?cb=1345963212\" width=600 />"
   ]
  },
  {
   "cell_type": "markdown",
   "metadata": {},
   "source": [
    "<img src=\"http://image.slidesharecdn.com/coredsm5-140101195744-phpapp02/95/introduction-to-the-new-dsm5-manual-24-638.jpg?cb=1388606389\" width=600 />"
   ]
  },
  {
   "cell_type": "markdown",
   "metadata": {},
   "source": [
    "<img src=\"http://image.slidesharecdn.com/coredsm5-140101195744-phpapp02/95/introduction-to-the-new-dsm5-manual-25-638.jpg?cb=1388606389\" width=600 />"
   ]
  },
  {
   "cell_type": "markdown",
   "metadata": {},
   "source": [
    "# 편람의 활용"
   ]
  },
  {
   "cell_type": "markdown",
   "metadata": {},
   "source": [
    "* 임상 증례 구조화에 대한 접근 (Approach to Clinical Case Formulation)\n",
    "* 정신질환의 정의 (Definition of a Mental Disorder)\n",
    "    - 임상적 중요성의 기준 (Criterion for Clinical Significance)\n",
    "* 진단의 구성 요소 (Elements of a Diagnosis)\n",
    "    - 진단기준과 기술어구 (Diagnostic Criteria and Descriptors)\n",
    "    - 아형과 명시자 (Subtypes and Specifiers)\n",
    "    - 약물치료로 유발된 운동 장애 및 임상적 관심의 초점이 될 수 있는 기타 상태 (Medication-Induced Movement Disorders and Other Conditions That May Be a Focus of Clinical Attention)\n",
    "    - 주요 진단 (Principal Diagnosis)\n",
    "    - 임시 진단 (Provisional Diagnosis)\n",
    "    - 부호화 및 기록 절차 (Coding and Reporting Procedures)\n",
    "* 앞으로의 전망 : 평가 및 모니터링 도구 (Looking to the Future: Assessment and Monitoring Tools)"
   ]
  },
  {
   "cell_type": "markdown",
   "metadata": {},
   "source": [
    "# DSM-5의 법의학적 적용을 위한 주의의 말"
   ]
  },
  {
   "cell_type": "markdown",
   "metadata": {},
   "source": [
    "# 참고 : 책의 전체 목차"
   ]
  },
  {
   "cell_type": "markdown",
   "metadata": {},
   "source": [
    "* DSM－5 조직 위원회\t\n",
    "* DSM－5 한국어판 번역자\n",
    "* DSM－5 분류\t\n",
    "* 정신질환의 진단 및 통계 편람 제5판 한국어판을 출간하며\t\n",
    "* 머리말\n",
    "\n",
    "* Ⅰ편 DSM－5 기본 요소 (DSM－5 Basics)\n",
    "    - 서 문 (Introduction)\t\n",
    "    - 편람의 활용 (Use of the Manual)\t\n",
    "    - DSM－5의 법의학적 적용을 위한 주의의 말 (Cautionary Statement for Forensic Use of DSM－5)\t\n",
    "* Ⅱ편 진단기준과 부호 (Diagnostic Criteria and Codes)\n",
    "    - 신경발달장애 (Neurodevelopmental Disorders)\t\n",
    "    - 조현병 스펙트럼 및 기타 정신병적 장애 (Schizophrenia Spectrum and Other Psychotic Disorders)\n",
    "    - 양극성 및 관련 장애 (Bipolar and Related Disorders)\t\n",
    "    - 우울장애 (Depressive Disorders)\t\n",
    "    - 불안장애 (Anxiety Disorder)\t\n",
    "    - 강박 및 관련 장애 (Obsessive－Compulsive and Related Disorders)\t\n",
    "    - 외상 및 스트레스 관련 장애 (Trauma－and Stressor－Related Disorders\t\n",
    "    - 해리장애 (Dissociative Disorders)\t\n",
    "    - 신체증상 및 관련 장애 (Somatic Symptom and Related Disorders)\n",
    "    - 급식 및 섭식장애 (Feeding and Eating Disorders)\t\n",
    "    - 배설장애 (Elimination Disorders)\n",
    "    - 수면－각성 장애 (Sleep－Wake Disorders)\t\n",
    "    - 성기능부전 (Sexual Dysfunctions)\n",
    "    - 성별 불쾌감 (Gender Dysphoria)\t\n",
    "    - 파괴적, 충동조절 및 품행 장애 (Disruptive, Impulse－Control, and Conduct Disorders)\n",
    "    - 물질관련 및 중독 장애 (Substance－Related and Addictive Disorders)\n",
    "    - 신경인지장애 (Neurocognitive Disorders)\t\n",
    "    - 성격장애 (Personality Disorders)\t\n",
    "    - 변태성욕장애 (Paraphilic Disorders)\t\n",
    "    - 기타 정신질환 (Other Mental Disorders)\t\n",
    "    - 약물치료로 유발된 운동장애 및 약물치료의 기타 부작용 (Medication－Induced Movement Disorders and Other Adverse Effects of Medication)\n",
    "    - 임상적 주의의 초점이 될 수 있는 기타의 상태 (Other Conditions That May Be a Focus of Clinical Attention)\n",
    "\n",
    "* Ⅲ편 새로 개발된 평가치와 모델 (Emerging Measures and Models)\n",
    "    - 평가 도구 (Assessment Measures)\n",
    "    - 문화적 개념화 (Cultural Formulation)\t\n",
    "    - 성격장애에 대한 대안적 (DSM－5 모델 Alternative DSM－5 Model for Personality Disorders)\t\n",
    "    - 추가 연구가 필요한 진단적 상태 (Conditions for Further Study)\t\n",
    "\n",
    "* 부록\n",
    "    - DSM－IV에서 DSM－5로의 주요 변화 사항 (Highlights of Changes From DSM－IV to DSM－5)\t\n",
    "    - 기술적 용어 해설 (Glossary of Technical Terms)\t\n",
    "    - 고통의 문화적 개념 용어 해설 (Glossary of Cultural Concepts of Distress)\t\n",
    "    - DSM－5 진단과 부호의 알파벳순 목록(ICD－9－CM과 ICD－10－CM) (Alphabetical Listing of DSM－5 Diagnoses and Codes(ICD－9－CM과 ICD－10－CM))\n",
    "    - DSM－5 진단과 부호의 숫자순 목록(ICD－9－CM) (Numerical Listing of DSM－5 Diagnoses and Codes (ICD－9－CM))\t\n",
    "    - DSM－5 진단과 부호의 숫자순 목록(ICD－10－CM) (Numerical Listing of DSM－5 (Diagnoses and Codes(ICD－10－CM))\t\n",
    "    - DSM－5 고문단과 기타 공헌자 DSM－5 (Advisors and Other Contributors)\t\n",
    "\n",
    "* 찾아보기\t\n",
    "* 편람의 이해를 돕기 위하여"
   ]
  },
  {
   "cell_type": "markdown",
   "metadata": {},
   "source": [
    "#### 참고자료\n",
    "* [1] DSM-5 정신질환의 진단 및 통계 편람(제5판) - http://www.hakjisa.co.kr/subpage.html?page=book_book_info&bidx=3117#.Vwcp5BOLTF0\n",
    "* [2] 사례중심의 이상심리학_김청송 - http://www.slideshare.net/Jini_Jung/ss-46364894\n",
    "* [3] Dsm 5 - An overview - http://www.slideshare.net/cijoalex/dsm-5-41986351\n",
    "* [4] Introduction to the New DSM-5 Manual - http://www.slideshare.net/lkarper/introduction-to-dsm5\n",
    "* [5] What’s in DSM-5 DSM 5 diagnoses and numbers xiii-xl summary of changes from IV -preface How the DSM 5 was developed-Intro 5-19 Further description of - http://slideplayer.com/slide/4383308/\n",
    "* [6] 심리지식 DSM-5 -  http://timewithmind.tistory.com/category/%EC%8B%AC%EB%A6%AC%20%EC%A7%80%EC%8B%9D/DSM-5\n",
    "* [7] Dimensional approach - http://www.slideshare.net/Psyccounting/dimensional-approach\n",
    "* [8] \n",
    "정신의학의 역사 - 광인의 수용소에서 프로작의 시대까지 - http://www.aladin.co.kr/shop/wproduct.aspx?ItemId=6261983\n",
    "* [9] \n",
    "정신병을 만드는 사람들 - 한 정신 의학자의 정신병 산업에 대한 경고 - http://www.aladin.co.kr/shop/wproduct.aspx?ItemId=39204364\n",
    "* [10] 정신병은 늘어만 가는데, 정신과 의사는 게으르다?!\n",
    " [프레시안 books] 앨런 프랜시스의 <정신병을 만드는 사람들> - http://www.pressian.com/news/article.html?no=116854\n"
   ]
  }
 ],
 "metadata": {
  "kernelspec": {
   "display_name": "Python 2",
   "language": "python",
   "name": "python2"
  },
  "language_info": {
   "codemirror_mode": {
    "name": "ipython",
    "version": 2
   },
   "file_extension": ".py",
   "mimetype": "text/x-python",
   "name": "python",
   "nbconvert_exporter": "python",
   "pygments_lexer": "ipython2",
   "version": "2.7.10"
  }
 },
 "nbformat": 4,
 "nbformat_minor": 0
}
